{
 "cells": [
  {
   "cell_type": "code",
   "execution_count": 11,
   "id": "04a14b4f-4ef1-4994-97f8-6ca0a5599257",
   "metadata": {},
   "outputs": [],
   "source": [
    "import json\n",
    "import pandas as pd"
   ]
  },
  {
   "cell_type": "code",
   "execution_count": 13,
   "id": "55a8ac48-b6a1-42b7-a68b-b4de5dadba4e",
   "metadata": {},
   "outputs": [
    {
     "name": "stdout",
     "output_type": "stream",
     "text": [
      "Type: <class 'dict'>\n",
      "Keys: ['@context', '@graph']\n"
     ]
    }
   ],
   "source": [
    "import json\n",
    "\n",
    "file_path = r\"C:/Users/apurv/Downloads/aziende-confiscate-anbsc (2).json\"\n",
    "\n",
    "# Mafia ANBSC\n",
    "with open(file_path, \"r\", encoding=\"utf-8\") as f:\n",
    "    data = json.load(f)\n",
    "\n",
    "print(\"Type:\", type(data))\n",
    "\n",
    "if isinstance(data, dict):\n",
    "    print(\"Keys:\", list(data.keys())[:20])  \n",
    "elif isinstance(data, list):\n",
    "    print(\"Length of list:\", len(data))\n",
    "    print(\"First item example:\", data[0])"
   ]
  },
  {
   "cell_type": "code",
   "execution_count": 15,
   "id": "f67d0301-c248-4f4f-8d57-b979376d183b",
   "metadata": {},
   "outputs": [
    {
     "name": "stdout",
     "output_type": "stream",
     "text": [
      "Share of active confiscated companies: 0.9070718877849211\n"
     ]
    }
   ],
   "source": [
    "import pandas as pd\n",
    "graph = data[\"@graph\"]\n",
    "\n",
    "df = pd.DataFrame(data['@graph'])\n",
    "\n",
    "active_share = (df['iterAmministrativoAttivo'] == 'IN GESTIONE').mean()\n",
    "print(\"Share of active confiscated companies:\", active_share)"
   ]
  },
  {
   "cell_type": "code",
   "execution_count": 17,
   "id": "b3536acc-53fe-42a7-8008-77fd8cd59fdc",
   "metadata": {},
   "outputs": [
    {
     "name": "stdout",
     "output_type": "stream",
     "text": [
      "Type of @graph: <class 'list'>\n",
      "Number of items: 3422\n",
      "First item example:\n",
      "{\n",
      "    \"@id\": \"impresa:TLb4B1ilArNzhplDd0dCHQ==\",\n",
      "    \"@type\": \"impresa\",\n",
      "    \"idBene\": \"404190\",\n",
      "    \"sBene\": \"A-ME-102366-S\",\n",
      "    \"iterAmministrativoAttivo\": \"IN GESTIONE\"\n",
      "}\n"
     ]
    }
   ],
   "source": [
    "print(\"Type of @graph:\", type(graph))\n",
    "if isinstance(graph, list):\n",
    "    print(\"Number of items:\", len(graph))\n",
    "    print(\"First item example:\")\n",
    "    print(json.dumps(graph[0], indent=4, ensure_ascii=False))  "
   ]
  },
  {
   "cell_type": "code",
   "execution_count": 19,
   "id": "c05f3531-11f3-4228-9563-51041fa7a9e2",
   "metadata": {},
   "outputs": [
    {
     "name": "stdout",
     "output_type": "stream",
     "text": [
      "--- Record 1 ---\n",
      "@id: impresa:TLb4B1ilArNzhplDd0dCHQ==\n",
      "@type: impresa\n",
      "idBene: 404190\n",
      "sBene: A-ME-102366-S\n",
      "iterAmministrativoAttivo: IN GESTIONE\n",
      "--- Record 2 ---\n",
      "@id: impresa:TapDCMwzO01w1xO/JZLeQg==\n",
      "@type: impresa\n",
      "idBene: 404191\n",
      "sBene: A-LT-102318-S\n",
      "iterAmministrativoAttivo: IN GESTIONE\n",
      "--- Record 3 ---\n",
      "@id: impresa:zahB1XVUVqtwfWmAJNBdVw==\n",
      "@type: impresa\n",
      "idBene: 404192\n",
      "sBene: A-RG-102354-S\n",
      "iterAmministrativoAttivo: IN GESTIONE\n",
      "--- Record 4 ---\n",
      "@id: impresa:mi/NFRAF2tuQTDbqQVJFcw==\n",
      "@type: impresa\n",
      "idBene: 404193\n",
      "sBene: A-CT-102322-S\n",
      "iterAmministrativoAttivo: IN GESTIONE\n",
      "--- Record 5 ---\n",
      "@id: impresa:3OLjN4VuMbsiLXz5jVTpgQ==\n",
      "@type: impresa\n",
      "idBene: 404229\n",
      "mBene: A-TP-364455\n",
      "sBene: A-TP-92910-S\n",
      "iterAmministrativoAttivo: IN GESTIONE\n"
     ]
    }
   ],
   "source": [
    "for i, item in enumerate(graph[:5]):  # first 5 items\n",
    "    print(f\"--- Record {i+1} ---\")\n",
    "    for k, v in item.items():\n",
    "        print(f\"{k}: {v}\")\n"
   ]
  },
  {
   "cell_type": "code",
   "execution_count": 21,
   "id": "7b3a7f9e-ab2f-4dea-a73a-3c0421c29cbc",
   "metadata": {},
   "outputs": [
    {
     "name": "stdout",
     "output_type": "stream",
     "text": [
      "                                @id    @type  idBene          sBene  \\\n",
      "0  impresa:TLb4B1ilArNzhplDd0dCHQ==  impresa  404190  A-ME-102366-S   \n",
      "1  impresa:TapDCMwzO01w1xO/JZLeQg==  impresa  404191  A-LT-102318-S   \n",
      "2  impresa:zahB1XVUVqtwfWmAJNBdVw==  impresa  404192  A-RG-102354-S   \n",
      "3  impresa:mi/NFRAF2tuQTDbqQVJFcw==  impresa  404193  A-CT-102322-S   \n",
      "4  impresa:3OLjN4VuMbsiLXz5jVTpgQ==  impresa  404229   A-TP-92910-S   \n",
      "\n",
      "  iterAmministrativoAttivo        mBene  \n",
      "0              IN GESTIONE          NaN  \n",
      "1              IN GESTIONE          NaN  \n",
      "2              IN GESTIONE          NaN  \n",
      "3              IN GESTIONE          NaN  \n",
      "4              IN GESTIONE  A-TP-364455  \n",
      "Index(['@id', '@type', 'idBene', 'sBene', 'iterAmministrativoAttivo', 'mBene'], dtype='object')\n"
     ]
    }
   ],
   "source": [
    "import pandas as pd\n",
    "\n",
    "df = pd.DataFrame(graph)   \n",
    "print(df.head())          \n",
    "print(df.columns)          \n"
   ]
  },
  {
   "cell_type": "code",
   "execution_count": 23,
   "id": "a0a3e9fe-1d16-4120-9b31-186613fdb332",
   "metadata": {},
   "outputs": [],
   "source": [
    "df['province_code'] = df['sBene'].str.split('-').str[1]"
   ]
  },
  {
   "cell_type": "code",
   "execution_count": 25,
   "id": "4c344159-957f-4606-b256-6be856d2fcf7",
   "metadata": {},
   "outputs": [
    {
     "name": "stdout",
     "output_type": "stream",
     "text": [
      "Type: <class 'dict'>\n",
      "Keys: ['@context', '@graph']\n"
     ]
    }
   ],
   "source": [
    "file_path1 = r\"C:/Users/apurv/Downloads/opendata-aziendeconfiscate-catalog.json\"\n",
    "\n",
    "\n",
    "with open(file_path1, \"r\", encoding=\"utf-8\") as f:\n",
    "    data1 = json.load(f)\n",
    "\n",
    "\n",
    "print(\"Type:\", type(data1))\n",
    "\n",
    "\n",
    "if isinstance(data1, dict):\n",
    "    print(\"Keys:\", list(data1.keys())[:20])  \n",
    "\n",
    "# If it's a list, print first few items\n",
    "elif isinstance(data1, list):\n",
    "    print(\"Length of list:\", len(data1))\n",
    "    print(\"First item example:\", data1[0])"
   ]
  },
  {
   "cell_type": "code",
   "execution_count": 27,
   "id": "f153d32f-fc91-4f9a-8164-1c174afdda98",
   "metadata": {},
   "outputs": [
    {
     "name": "stdout",
     "output_type": "stream",
     "text": [
      "Type of @graph: <class 'list'>\n",
      "Number of items: 7\n",
      "First item example:\n",
      "{\n",
      "    \"@id\": \"datapath:opendata-aziendeconfiscate-catalog.json\",\n",
      "    \"@type\": [\n",
      "        \"dcat:Catalog\",\n",
      "        \"dcatapit:Catalog\"\n",
      "    ],\n",
      "    \"title\": {\n",
      "        \"@language\": \"it\"\n",
      "    },\n",
      "    \"description\": {\n",
      "        \"@language\": \"it\"\n",
      "    },\n",
      "    \"publisher\": {},\n",
      "    \"issued\": {\n",
      "        \"@type\": \"xsd:date\",\n",
      "        \"@value\": \"2025-07-01\"\n",
      "    },\n",
      "    \"dataset\": [\n",
      "        {\n",
      "            \"@id\": \"#Aziende-Confiscate-ANBSC\"\n",
      "        },\n",
      "        {\n",
      "            \"@id\": \"#Aziende-Confiscate-UICCIAA\"\n",
      "        }\n",
      "    ],\n",
      "    \"homepage\": {\n",
      "        \"@id\": \"dsbase:home/\"\n",
      "    }\n",
      "}\n"
     ]
    }
   ],
   "source": [
    "graph = data1[\"@graph\"]\n",
    "\n",
    "print(\"Type of @graph:\", type(graph))\n",
    "if isinstance(graph, list):\n",
    "    print(\"Number of items:\", len(graph))\n",
    "    print(\"First item example:\")\n",
    "    print(json.dumps(graph[0], indent=4, ensure_ascii=False))  "
   ]
  },
  {
   "cell_type": "code",
   "execution_count": 29,
   "id": "438c2258-a53c-47ca-b767-4429487b2d6c",
   "metadata": {},
   "outputs": [
    {
     "name": "stdout",
     "output_type": "stream",
     "text": [
      "Type: <class 'dict'>\n",
      "Keys: ['@context', '@graph']\n"
     ]
    }
   ],
   "source": [
    "file_path2 = r\"C:/Users/apurv/Downloads/aziende-confiscate-unioncamere.json\"\n",
    "\n",
    "\n",
    "with open(file_path2, \"r\", encoding=\"utf-8\") as f:\n",
    "    data2 = json.load(f)\n",
    "\n",
    "\n",
    "print(\"Type:\", type(data2))\n",
    "\n",
    "\n",
    "if isinstance(data2, dict):\n",
    "    print(\"Keys:\", list(data2.keys())[:20])  \n",
    "\n",
    "elif isinstance(data2, list):\n",
    "    print(\"Length of list:\", len(data2))\n",
    "    print(\"First item example:\", data2[0])"
   ]
  },
  {
   "cell_type": "code",
   "execution_count": 31,
   "id": "af294e79-d2a6-4d67-8fa2-15a2d9bccb59",
   "metadata": {},
   "outputs": [
    {
     "name": "stdout",
     "output_type": "stream",
     "text": [
      "Type of @graph: <class 'list'>\n",
      "Number of items: 3422\n",
      "First item example:\n",
      "{\n",
      "    \"@id\": \"impresa:TLb4B1ilArNzhplDd0dCHQ==\",\n",
      "    \"@type\": \"impresa\",\n",
      "    \"naturaGiuridica\": \"SOCIETA' DI CAPITALE\",\n",
      "    \"statoAttivita\": \"CESSATA\",\n",
      "    \"ateco\": {\n",
      "        \"codiceAteco\": \"46321\",\n",
      "        \"settoreAteco\": \"G Commercio all'ingrosso e al dettaglio; riparazione di aut...\",\n",
      "        \"sezioneAteco\": \"46321 Commercio all'ingrosso di carne fresca, congelata e surgelata\"\n",
      "    },\n",
      "    \"sedeLegale\": {\n",
      "        \"regione\": \"SICILIA\",\n",
      "        \"provincia\": \"MESSINA\",\n",
      "        \"comune\": \"SANT'ALESSIO SICULO\"\n",
      "    }\n",
      "}\n",
      "has_settoreAteco\n",
      "False    3422\n",
      "Name: count, dtype: int64\n"
     ]
    }
   ],
   "source": [
    "graph = data2[\"@graph\"]\n",
    "\n",
    "print(\"Type of @graph:\", type(graph))\n",
    "if isinstance(graph, list):\n",
    "    print(\"Number of items:\", len(graph))\n",
    "    print(\"First item example:\")\n",
    "    print(json.dumps(graph[0], indent=4, ensure_ascii=False))  \n",
    "\n",
    "#checkingfor ateco for sub-sector\n",
    "df['has_settoreAteco'] = df.apply(lambda row: 'ateco' in row and isinstance(row['settoreAteco'], dict), axis=1)\n",
    "print(df['has_settoreAteco'].value_counts())\n"
   ]
  },
  {
   "cell_type": "code",
   "execution_count": 33,
   "id": "f89516e6-662f-41aa-940a-91404c926857",
   "metadata": {},
   "outputs": [
    {
     "name": "stdout",
     "output_type": "stream",
     "text": [
      "Index(['@id', '@type', 'idBene', 'sBene', 'iterAmministrativoAttivo', 'mBene',\n",
      "       'province_code', 'has_settoreAteco'],\n",
      "      dtype='object')\n"
     ]
    }
   ],
   "source": [
    "print(df.columns) "
   ]
  },
  {
   "cell_type": "code",
   "execution_count": 40,
   "id": "ab468161-18ba-497d-825e-606c755fe910",
   "metadata": {},
   "outputs": [
    {
     "name": "stdout",
     "output_type": "stream",
     "text": [
      "Index(['@id', '@type', 'idBene', 'sBene', 'iterAmministrativoAttivo', 'mBene',\n",
      "       'province_code', 'has_settoreAteco'],\n",
      "      dtype='object')\n"
     ]
    }
   ],
   "source": [
    "\n",
    "print(df.columns)\n",
    "\n",
    "\n",
    "\n"
   ]
  },
  {
   "cell_type": "code",
   "execution_count": 62,
   "id": "4f53cedc-9bf4-4dce-a1ba-721bc7590be9",
   "metadata": {},
   "outputs": [
    {
     "name": "stdout",
     "output_type": "stream",
     "text": [
      "Collecting rapidfuzz\n",
      "  Downloading rapidfuzz-3.14.0-cp312-cp312-win_amd64.whl.metadata (12 kB)\n",
      "Downloading rapidfuzz-3.14.0-cp312-cp312-win_amd64.whl (1.7 MB)\n",
      "   ---------------------------------------- 0.0/1.7 MB ? eta -:--:--\n",
      "   ---------------------------------------- 0.0/1.7 MB ? eta -:--:--\n",
      "   - -------------------------------------- 0.1/1.7 MB 991.0 kB/s eta 0:00:02\n",
      "   ---- ----------------------------------- 0.2/1.7 MB 1.9 MB/s eta 0:00:01\n",
      "   ---- ----------------------------------- 0.2/1.7 MB 1.9 MB/s eta 0:00:01\n",
      "   ---- ----------------------------------- 0.2/1.7 MB 1.9 MB/s eta 0:00:01\n",
      "   ---- ----------------------------------- 0.2/1.7 MB 1.9 MB/s eta 0:00:01\n",
      "   ---- ----------------------------------- 0.2/1.7 MB 655.1 kB/s eta 0:00:03\n",
      "   ----- ---------------------------------- 0.2/1.7 MB 656.4 kB/s eta 0:00:03\n",
      "   ----- ---------------------------------- 0.2/1.7 MB 656.4 kB/s eta 0:00:03\n",
      "   ----- ---------------------------------- 0.2/1.7 MB 656.4 kB/s eta 0:00:03\n",
      "   ------ --------------------------------- 0.3/1.7 MB 491.5 kB/s eta 0:00:03\n",
      "   ------------ --------------------------- 0.5/1.7 MB 944.9 kB/s eta 0:00:02\n",
      "   ------------ --------------------------- 0.5/1.7 MB 929.3 kB/s eta 0:00:02\n",
      "   ------------ --------------------------- 0.5/1.7 MB 929.3 kB/s eta 0:00:02\n",
      "   ------------- -------------------------- 0.5/1.7 MB 792.4 kB/s eta 0:00:02\n",
      "   ------------- -------------------------- 0.5/1.7 MB 792.4 kB/s eta 0:00:02\n",
      "   ------------- -------------------------- 0.5/1.7 MB 792.4 kB/s eta 0:00:02\n",
      "   ------------- -------------------------- 0.5/1.7 MB 792.4 kB/s eta 0:00:02\n",
      "   ------------- -------------------------- 0.5/1.7 MB 792.4 kB/s eta 0:00:02\n",
      "   -------------- ------------------------- 0.6/1.7 MB 644.3 kB/s eta 0:00:02\n",
      "   ------------------ --------------------- 0.8/1.7 MB 795.1 kB/s eta 0:00:02\n",
      "   ------------------- -------------------- 0.8/1.7 MB 788.5 kB/s eta 0:00:02\n",
      "   -------------------- ------------------- 0.8/1.7 MB 794.6 kB/s eta 0:00:02\n",
      "   -------------------- ------------------- 0.8/1.7 MB 790.7 kB/s eta 0:00:02\n",
      "   ---------------------- ----------------- 0.9/1.7 MB 790.5 kB/s eta 0:00:01\n",
      "   ----------------------- ---------------- 1.0/1.7 MB 802.3 kB/s eta 0:00:01\n",
      "   ----------------------- ---------------- 1.0/1.7 MB 796.6 kB/s eta 0:00:01\n",
      "   ------------------------- -------------- 1.0/1.7 MB 807.4 kB/s eta 0:00:01\n",
      "   ------------------------- -------------- 1.1/1.7 MB 801.9 kB/s eta 0:00:01\n",
      "   -------------------------- ------------- 1.1/1.7 MB 804.3 kB/s eta 0:00:01\n",
      "   --------------------------- ------------ 1.1/1.7 MB 799.3 kB/s eta 0:00:01\n",
      "   ---------------------------- ----------- 1.2/1.7 MB 794.7 kB/s eta 0:00:01\n",
      "   ----------------------------- ---------- 1.2/1.7 MB 790.8 kB/s eta 0:00:01\n",
      "   ----------------------------- ---------- 1.2/1.7 MB 794.3 kB/s eta 0:00:01\n",
      "   ------------------------------ --------- 1.3/1.7 MB 796.6 kB/s eta 0:00:01\n",
      "   ------------------------------- -------- 1.3/1.7 MB 780.5 kB/s eta 0:00:01\n",
      "   -------------------------------- ------- 1.3/1.7 MB 789.1 kB/s eta 0:00:01\n",
      "   --------------------------------- ------ 1.4/1.7 MB 785.4 kB/s eta 0:00:01\n",
      "   --------------------------------- ------ 1.4/1.7 MB 781.9 kB/s eta 0:00:01\n",
      "   ---------------------------------- ----- 1.4/1.7 MB 784.2 kB/s eta 0:00:01\n",
      "   ----------------------------------- ---- 1.5/1.7 MB 783.0 kB/s eta 0:00:01\n",
      "   ------------------------------------ --- 1.5/1.7 MB 777.9 kB/s eta 0:00:01\n",
      "   ------------------------------------- -- 1.6/1.7 MB 779.4 kB/s eta 0:00:01\n",
      "   -------------------------------------- - 1.6/1.7 MB 776.4 kB/s eta 0:00:01\n",
      "   ---------------------------------------  1.6/1.7 MB 773.7 kB/s eta 0:00:01\n",
      "   ---------------------------------------  1.6/1.7 MB 771.0 kB/s eta 0:00:01\n",
      "   ---------------------------------------- 1.7/1.7 MB 763.8 kB/s eta 0:00:00\n",
      "Installing collected packages: rapidfuzz\n",
      "Successfully installed rapidfuzz-3.14.0\n"
     ]
    }
   ],
   "source": [
    "\n",
    "!pip install rapidfuzz"
   ]
  },
  {
   "cell_type": "code",
   "execution_count": 64,
   "id": "bf3e8ccd-b883-4313-9762-1074fe3ccc7c",
   "metadata": {},
   "outputs": [],
   "source": [
    "import pandas as pd\n",
    "from rapidfuzz import process"
   ]
  },
  {
   "cell_type": "code",
   "execution_count": 94,
   "id": "51604bc6-b6cb-493a-a38f-b84fa565ec71",
   "metadata": {},
   "outputs": [],
   "source": [
    "company_counts = df.groupby('region').size().reset_index(name='num_companies')\n"
   ]
  },
  {
   "cell_type": "code",
   "execution_count": 96,
   "id": "3aae3283-ace6-423d-9458-138cc057c7cb",
   "metadata": {},
   "outputs": [],
   "source": [
    "region_year_df = pd.read_stata(r\"C:/Users/apurv/Downloads/merged2.dta\")"
   ]
  },
  {
   "cell_type": "code",
   "execution_count": 98,
   "id": "53994d90-187a-473b-a295-eb54c72c9053",
   "metadata": {},
   "outputs": [
    {
     "data": {
      "text/html": [
       "<div>\n",
       "<style scoped>\n",
       "    .dataframe tbody tr th:only-of-type {\n",
       "        vertical-align: middle;\n",
       "    }\n",
       "\n",
       "    .dataframe tbody tr th {\n",
       "        vertical-align: top;\n",
       "    }\n",
       "\n",
       "    .dataframe thead th {\n",
       "        text-align: right;\n",
       "    }\n",
       "</style>\n",
       "<table border=\"1\" class=\"dataframe\">\n",
       "  <thead>\n",
       "    <tr style=\"text-align: right;\">\n",
       "      <th></th>\n",
       "      <th>region</th>\n",
       "      <th>num_companies</th>\n",
       "    </tr>\n",
       "  </thead>\n",
       "  <tbody>\n",
       "  </tbody>\n",
       "</table>\n",
       "</div>"
      ],
      "text/plain": [
       "Empty DataFrame\n",
       "Columns: [region, num_companies]\n",
       "Index: []"
      ]
     },
     "execution_count": 98,
     "metadata": {},
     "output_type": "execute_result"
    }
   ],
   "source": [
    "company_counts = df.groupby('region').size().reset_index(name='num_companies')\n",
    "company_counts[company_counts['region'].str.contains(\"Lombardy\", case=False, na=False)]"
   ]
  },
  {
   "cell_type": "code",
   "execution_count": 82,
   "id": "b941f372-b77f-4e12-b371-c9dfb11e3bb2",
   "metadata": {},
   "outputs": [],
   "source": [
    "merged_df = pd.merge(region_year_df, company_counts, on='region', how='left')"
   ]
  },
  {
   "cell_type": "code",
   "execution_count": 84,
   "id": "9e781bce-230a-4381-8fd3-7976b4285511",
   "metadata": {},
   "outputs": [],
   "source": [
    "\n",
    "merged_df['num_companies'] = merged_df['num_companies'].fillna(0)\n",
    "merged_df.to_stata(r\"C:/Users/apurv/Downloads/merged_datasetf.dta\", write_index=False)"
   ]
  },
  {
   "cell_type": "code",
   "execution_count": 86,
   "id": "e70004f4-dd33-4859-807f-8b7d7fcb60c0",
   "metadata": {},
   "outputs": [
    {
     "name": "stdout",
     "output_type": "stream",
     "text": [
      "     id  corruption_  government_  regulatory_  ruleoflaw_    voice_  \\\n",
      "0  70.0     0.879252     0.102969     0.435671    0.647691  0.439667   \n",
      "1  71.0     0.878077     0.177293     0.584452    0.556188  0.525392   \n",
      "2  73.0     0.834459     0.148470     0.840045    0.629018  0.450411   \n",
      "3  72.0     0.840866     0.144377     0.613415    0.586870  0.470595   \n",
      "4  73.0     0.840866     0.144377     0.613415    0.586870  0.470595   \n",
      "\n",
      "       iqi_  cod_macroarea_istat cod_nuts1_2006 cod_nuts1_2010  ...  \\\n",
      "0  0.451762                  4.0            ITF            ITF  ...   \n",
      "1  0.480136                  4.0            ITF            ITF  ...   \n",
      "2  0.502765                  4.0            ITF            ITF  ...   \n",
      "3  0.464013                  4.0            ITF            ITF  ...   \n",
      "4  0.464013                  4.0            ITF            ITF  ...   \n",
      "\n",
      "  cod_prov_istat  cod_nuts3_2006 cod_nuts3_2010  province code_abb    year  \\\n",
      "0           66.0           ITF11          ITF11  L'Aquila       AQ  2004.0   \n",
      "1           67.0           ITF12          ITF12    Teramo       TE  2004.0   \n",
      "2           69.0           ITF14          ITF14    Chieti       CH  2004.0   \n",
      "3           68.0           ITF13          ITF13   Pescara       PE  2004.0   \n",
      "4           69.0           ITF14          ITF14    Chieti       CH  2004.0   \n",
      "\n",
      "                         indicator observation       _merge num_companies  \n",
      "0  Annual median households income     25803.0  Matched (3)          26.0  \n",
      "1  Annual median households income     25803.0  Matched (3)          26.0  \n",
      "2  Annual median households income     25803.0  Matched (3)          26.0  \n",
      "3  Annual median households income     25803.0  Matched (3)          26.0  \n",
      "4  Annual median households income     25803.0  Matched (3)          26.0  \n",
      "\n",
      "[5 rows x 25 columns]\n"
     ]
    }
   ],
   "source": [
    "print(merged_df.head())"
   ]
  },
  {
   "cell_type": "code",
   "execution_count": null,
   "id": "ea61c5a3-a800-47bc-b7fa-d66553dfdbf3",
   "metadata": {},
   "outputs": [],
   "source": []
  }
 ],
 "metadata": {
  "kernelspec": {
   "display_name": "Python 3 (ipykernel)",
   "language": "python",
   "name": "python3"
  },
  "language_info": {
   "codemirror_mode": {
    "name": "ipython",
    "version": 3
   },
   "file_extension": ".py",
   "mimetype": "text/x-python",
   "name": "python",
   "nbconvert_exporter": "python",
   "pygments_lexer": "ipython3",
   "version": "3.12.4"
  }
 },
 "nbformat": 4,
 "nbformat_minor": 5
}
